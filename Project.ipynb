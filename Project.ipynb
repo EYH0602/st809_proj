{
  "cells": [
    {
      "cell_type": "markdown",
      "id": "bcfdea4b",
      "metadata": {},
      "source": [
        "# Project Facial Emotion Classification\n",
        "\n",
        "* [dataset](https://www.kaggle.com/datasets/msambare/fer2013?select=test)\n",
        "* [poster](https://drive.google.com/file/d/1H7Xs9Qg2A0YlANd9Adka1IuK3MXEeKs5/view?usp=sharing)\n",
        "* [video](https://drive.google.com/file/d/1hyjSEc0ZWQnh_-qf3tkXrod6A7GFAI5J/view?usp=sharing)"
      ]
    },
    {
      "cell_type": "markdown",
      "id": "47f2674f",
      "metadata": {},
      "source": [
        "## Setup\n",
        "\n",
        "First we need to import some necessary packages."
      ]
    },
    {
      "cell_type": "code",
      "execution_count": null,
      "id": "c0cc06f1",
      "metadata": {},
      "outputs": [],
      "source": [
        "import numpy as np\n",
        "from sklearn.model_selection import train_test_split\n",
        "\n",
        "import tensorflow as tf\n",
        "from tensorflow import keras\n",
        "from tensorflow.keras.models import Sequential, Model\n",
        "from tensorflow.keras.layers import Dense, Dropout, Flatten, Activation, Input, BatchNormalization\n",
        "from tensorflow.keras.layers import\\\n",
        "    Conv2D, ZeroPadding2D, MaxPooling2D, AveragePooling2D\n",
        "from tensorflow.keras.applications import ResNet50, ResNet50V2\n",
        "from tensorflow.keras.optimizers import Adam, SGD\n",
        "import os\n",
        "import matplotlib.pyplot as plt\n",
        "\n",
        "tf.random.set_seed(2266)\n",
        "np.random.seed(1)\n",
        "%matplotlib inline"
      ]
    },
    {
      "cell_type": "markdown",
      "id": "eab19029",
      "metadata": {},
      "source": [
        "Unzip the data from google drive and load out help functions."
      ]
    },
    {
      "cell_type": "code",
      "execution_count": 3,
      "id": "BBePYsgwcbVW",
      "metadata": {
        "id": "BBePYsgwcbVW"
      },
      "outputs": [],
      "source": [
        "if not (os.path.exists('test') and os.path.exists('train')):\n",
        "    !unzip \"/content/drive/MyDrive/data/emotions/archive.zip\" -d \"/content\""
      ]
    },
    {
      "cell_type": "code",
      "execution_count": 9,
      "id": "V944eEjiRXRS",
      "metadata": {
        "id": "V944eEjiRXRS"
      },
      "outputs": [],
      "source": [
        "def getData(batch_size, val_split, path='data/'):\n",
        "    train = keras.utils.image_dataset_from_directory(\n",
        "        directory=path+'train/',\n",
        "        labels='inferred',\n",
        "        label_mode='categorical',\n",
        "        batch_size=batch_size,\n",
        "        image_size=(48, 48)\n",
        "    )\n",
        "    train = train.map(lambda X, y: (X / 255, y))\n",
        "\n",
        "    test = keras.utils.image_dataset_from_directory(\n",
        "        directory=path+'test/',\n",
        "        labels='inferred',\n",
        "        label_mode='categorical',\n",
        "        batch_size=batch_size,\n",
        "        image_size=(48, 48)\n",
        "    )\n",
        "    test = test.map(lambda X, y: (X / 255, y))\n",
        "\n",
        "    total_size = train.cardinality().numpy()\n",
        "    train_size = int((1 - val_split) * total_size)\n",
        "    \n",
        "    train = train.shuffle(batch_size)\n",
        "    train_data = train.take(train_size)\n",
        "    val_data = train.skip(train_size)\n",
        "    return train_data, val_data, test\n",
        "\n",
        "def plotHistory(history, model_name='Neural Network Training History'):\n",
        "    fig, ax = plt.subplots(1,2,figsize = (16,4))\n",
        "    ax[0].plot(history.history['loss'],color='#EFAEA4',label = 'Training Loss')\n",
        "    ax[0].plot(history.history['val_loss'],color='#B2D7D0',label = 'Validation Loss')\n",
        "    ax[1].plot(history.history['accuracy'],color='#EFAEA4',label = 'Training Accuracy')\n",
        "    ax[1].plot(history.history['val_accuracy'],color='#B2D7D0',label = 'Validation Accuracy')\n",
        "    ax[0].legend()\n",
        "    ax[1].legend()\n",
        "    ax[0].set_xlabel('Epochs')\n",
        "    ax[1].set_xlabel('Epochs');\n",
        "    ax[0].set_ylabel('Loss')\n",
        "    ax[1].set_ylabel('Accuracy %');\n",
        "    fig.suptitle('NN_model Training', fontsize = 24)"
      ]
    },
    {
      "cell_type": "markdown",
      "id": "8f11e171",
      "metadata": {
        "id": "8f11e171"
      },
      "source": [
        "load the data in batches of 32, split the train data 8:2 into validation set.\n",
        "checkout "
      ]
    },
    {
      "cell_type": "code",
      "execution_count": 10,
      "id": "adf10c6a",
      "metadata": {
        "colab": {
          "base_uri": "https://localhost:8080/"
        },
        "id": "adf10c6a",
        "outputId": "e2f93329-5487-43f8-a1f9-ad22b0bc2bd9"
      },
      "outputs": [
        {
          "name": "stdout",
          "output_type": "stream",
          "text": [
            "Found 28709 files belonging to 7 classes.\n",
            "Found 7178 files belonging to 7 classes.\n"
          ]
        }
      ],
      "source": [
        "train, val, test = getData(32, 0.2, path='data/')"
      ]
    },
    {
      "cell_type": "code",
      "execution_count": 12,
      "id": "56de9007",
      "metadata": {},
      "outputs": [
        {
          "data": {
            "image/png": "[encoded data removed]",
            "text/plain": [
              "<Figure size 1152x288 with 4 Axes>"
            ]
          },
          "metadata": {
            "needs_background": "light"
          },
          "output_type": "display_data"
        }
      ],
      "source": [
        "emo_dict = {\n",
        "    0:'Angry', 1:'Disgust',  2:'Fear', 3:'Happy', 4:'Sad', 5:'Surprise', 6:'Neutral'\n",
        "}\n",
        "display_data = train.take(4)\n",
        "fig, ax = plt.subplots(1, 4, figsize = (16,4))\n",
        "for idx, data in enumerate(display_data):\n",
        "    label = emo_dict[np.argmax(data[1][0])]\n",
        "    img = data[0][0]\n",
        "    ax[idx].imshow(img)\n",
        "    ax[idx].set_title(label)\n",
        "    ax[idx].axis('off')"
      ]
    },
    {
      "cell_type": "code",
      "execution_count": 6,
      "id": "bfd96e85",
      "metadata": {
        "colab": {
          "base_uri": "https://localhost:8080/"
        },
        "id": "bfd96e85",
        "outputId": "a303add6-f0f0-498d-ba29-c58d3bddd71b"
      },
      "outputs": [
        {
          "name": "stdout",
          "output_type": "stream",
          "text": [
            "Model: \"ResNet50\"\n",
            "_________________________________________________________________\n",
            " Layer (type)                Output Shape              Param #   \n",
            "=================================================================\n",
            " lambda (Lambda)             (None, 224, 224, 3)       0         \n",
            "                                                                 \n",
            " resnet50v2 (Functional)     (None, None, None, 2048)  23564800  \n",
            "                                                                 \n",
            " flatten (Flatten)           (None, 100352)            0         \n",
            "                                                                 \n",
            " batch_normalization (BatchN  (None, 100352)           401408    \n",
            " ormalization)                                                   \n",
            "                                                                 \n",
            " dense (Dense)               (None, 128)               12845184  \n",
            "                                                                 \n",
            " batch_normalization_1 (Batc  (None, 128)              512       \n",
            " hNormalization)                                                 \n",
            "                                                                 \n",
            " dropout (Dropout)           (None, 128)               0         \n",
            "                                                                 \n",
            " dense_1 (Dense)             (None, 64)                8256      \n",
            "                                                                 \n",
            " batch_normalization_2 (Batc  (None, 64)               256       \n",
            " hNormalization)                                                 \n",
            "                                                                 \n",
            " dropout_1 (Dropout)         (None, 64)                0         \n",
            "                                                                 \n",
            " dense_2 (Dense)             (None, 7)                 455       \n",
            "                                                                 \n",
            "=================================================================\n",
            "Total params: 36,820,871\n",
            "Trainable params: 36,574,343\n",
            "Non-trainable params: 246,528\n",
            "_________________________________________________________________\n"
          ]
        }
      ],
      "source": [
        "resnet50 = ResNet50V2(weights='imagenet', include_top=False)\n",
        "model = Sequential(name='ResNet50')\n",
        "model.add(Input(shape=(48, 48, 3)))\n",
        "model.add(keras.layers.Lambda(lambda img: tf.image.resize(img, (224, 224))))\n",
        "model.add(resnet50)\n",
        "model.add(Flatten())\n",
        "model.add(BatchNormalization())\n",
        "model.add(Dense(128, activation='relu'))\n",
        "model.add(BatchNormalization())\n",
        "model.add(Dropout(0.6))\n",
        "model.add(Dense(64, activation='relu'))\n",
        "model.add(BatchNormalization())\n",
        "model.add(Dropout(0.5))\n",
        "model.add(Dense(7, activation='softmax'))\n",
        "\n",
        "model.compile(\n",
        "    optimizer=SGD(learning_rate=1e-3),\n",
        "    loss='categorical_crossentropy',\n",
        "    metrics=['accuracy']\n",
        ")\n",
        "model.summary()"
      ]
    },
    {
      "cell_type": "code",
      "execution_count": 7,
      "id": "xuOp2cXgY4AP",
      "metadata": {
        "colab": {
          "base_uri": "https://localhost:8080/",
          "height": 1000
        },
        "id": "xuOp2cXgY4AP",
        "outputId": "5565ea13-3b1a-4ca2-b90f-cd8dd618acf8"
      },
      "outputs": [
        {
          "name": "stdout",
          "output_type": "stream",
          "text": [
            "Epoch 1/150\n",
            "718/718 [==============================] - 129s 170ms/step - loss: 2.5564 - accuracy: 0.2261 - val_loss: 1.7134 - val_accuracy: 0.3689\n",
            "Epoch 2/150\n",
            "718/718 [==============================] - 122s 169ms/step - loss: 2.0494 - accuracy: 0.3325 - val_loss: 1.4750 - val_accuracy: 0.4662\n",
            "Epoch 3/150\n",
            "718/718 [==============================] - 122s 169ms/step - loss: 1.7801 - accuracy: 0.3988 - val_loss: 1.3638 - val_accuracy: 0.4912\n",
            "Epoch 4/150\n",
            "718/718 [==============================] - 122s 169ms/step - loss: 1.6269 - accuracy: 0.4359 - val_loss: 1.4193 - val_accuracy: 0.5144\n",
            "Epoch 5/150\n",
            "718/718 [==============================] - 121s 169ms/step - loss: 1.5207 - accuracy: 0.4604 - val_loss: 1.2930 - val_accuracy: 0.5351\n",
            "Epoch 6/150\n",
            "718/718 [==============================] - 122s 169ms/step - loss: 1.4184 - accuracy: 0.4863 - val_loss: 1.2446 - val_accuracy: 0.5454\n",
            "Epoch 7/150\n",
            "718/718 [==============================] - 122s 169ms/step - loss: 1.3280 - accuracy: 0.5205 - val_loss: 1.1940 - val_accuracy: 0.5657\n",
            "Epoch 8/150\n",
            "718/718 [==============================] - 122s 169ms/step - loss: 1.2726 - accuracy: 0.5341 - val_loss: 1.1611 - val_accuracy: 0.5690\n",
            "Epoch 9/150\n",
            "718/718 [==============================] - 122s 169ms/step - loss: 1.2201 - accuracy: 0.5557 - val_loss: 1.1439 - val_accuracy: 0.5795\n",
            "Epoch 10/150\n",
            "718/718 [==============================] - 121s 169ms/step - loss: 1.1490 - accuracy: 0.5782 - val_loss: 1.1310 - val_accuracy: 0.5863\n",
            "Epoch 11/150\n",
            "718/718 [==============================] - 122s 169ms/step - loss: 1.0976 - accuracy: 0.5999 - val_loss: 1.1225 - val_accuracy: 0.5962\n",
            "Epoch 12/150\n",
            "718/718 [==============================] - 121s 169ms/step - loss: 1.0619 - accuracy: 0.6130 - val_loss: 1.1050 - val_accuracy: 0.5999\n",
            "Epoch 13/150\n",
            "718/718 [==============================] - 122s 169ms/step - loss: 1.0077 - accuracy: 0.6299 - val_loss: 1.1060 - val_accuracy: 0.6004\n",
            "Epoch 14/150\n",
            "718/718 [==============================] - 121s 169ms/step - loss: 0.9655 - accuracy: 0.6488 - val_loss: 1.0911 - val_accuracy: 0.6112\n",
            "Epoch 15/150\n",
            "718/718 [==============================] - 122s 169ms/step - loss: 0.9123 - accuracy: 0.6677 - val_loss: 1.0865 - val_accuracy: 0.6222\n",
            "Epoch 16/150\n",
            "718/718 [==============================] - 122s 169ms/step - loss: 0.8493 - accuracy: 0.6983 - val_loss: 1.0974 - val_accuracy: 0.6232\n",
            "Epoch 17/150\n",
            "718/718 [==============================] - 122s 169ms/step - loss: 0.7942 - accuracy: 0.7163 - val_loss: 1.0547 - val_accuracy: 0.6304\n",
            "Epoch 18/150\n",
            "718/718 [==============================] - 121s 169ms/step - loss: 0.7578 - accuracy: 0.7345 - val_loss: 1.0692 - val_accuracy: 0.6337\n",
            "Epoch 19/150\n",
            "718/718 [==============================] - 121s 169ms/step - loss: 0.7090 - accuracy: 0.7531 - val_loss: 1.0790 - val_accuracy: 0.6330\n",
            "Epoch 20/150\n",
            "718/718 [==============================] - 122s 169ms/step - loss: 0.6438 - accuracy: 0.7827 - val_loss: 1.0909 - val_accuracy: 0.6344\n",
            "Epoch 21/150\n",
            "718/718 [==============================] - 121s 169ms/step - loss: 0.5996 - accuracy: 0.7992 - val_loss: 1.0924 - val_accuracy: 0.6382\n",
            "Epoch 22/150\n",
            "718/718 [==============================] - 122s 169ms/step - loss: 0.5576 - accuracy: 0.8125 - val_loss: 1.0958 - val_accuracy: 0.6407\n",
            "Epoch 23/150\n",
            "718/718 [==============================] - 121s 169ms/step - loss: 0.5119 - accuracy: 0.8311 - val_loss: 1.0860 - val_accuracy: 0.6395\n",
            "Epoch 24/150\n",
            "718/718 [==============================] - 122s 169ms/step - loss: 0.4675 - accuracy: 0.8485 - val_loss: 1.1031 - val_accuracy: 0.6543\n",
            "Epoch 25/150\n",
            "718/718 [==============================] - 122s 169ms/step - loss: 0.4222 - accuracy: 0.8682 - val_loss: 1.1259 - val_accuracy: 0.6555\n",
            "Epoch 26/150\n",
            "718/718 [==============================] - 121s 169ms/step - loss: 0.3885 - accuracy: 0.8763 - val_loss: 1.1411 - val_accuracy: 0.6513\n",
            "Epoch 27/150\n",
            "718/718 [==============================] - 122s 169ms/step - loss: 0.3574 - accuracy: 0.8900 - val_loss: 1.1909 - val_accuracy: 0.6524\n",
            "Epoch 28/150\n",
            "718/718 [==============================] - 121s 169ms/step - loss: 0.3257 - accuracy: 0.9009 - val_loss: 1.1872 - val_accuracy: 0.6463\n",
            "Epoch 29/150\n",
            "718/718 [==============================] - 122s 169ms/step - loss: 0.3044 - accuracy: 0.9077 - val_loss: 1.2152 - val_accuracy: 0.6602\n",
            "Epoch 30/150\n",
            "718/718 [==============================] - 121s 169ms/step - loss: 0.2722 - accuracy: 0.9208 - val_loss: 1.2175 - val_accuracy: 0.6497\n",
            "Epoch 31/150\n",
            "718/718 [==============================] - 121s 169ms/step - loss: 0.2591 - accuracy: 0.9222 - val_loss: 1.2332 - val_accuracy: 0.6656\n",
            "Epoch 32/150\n",
            "718/718 [==============================] - 121s 168ms/step - loss: 0.2241 - accuracy: 0.9339 - val_loss: 1.2315 - val_accuracy: 0.6581\n",
            "Epoch 33/150\n",
            "718/718 [==============================] - 121s 169ms/step - loss: 0.2181 - accuracy: 0.9377 - val_loss: 1.2500 - val_accuracy: 0.6707\n",
            "Epoch 34/150\n",
            "718/718 [==============================] - 121s 169ms/step - loss: 0.1922 - accuracy: 0.9456 - val_loss: 1.2922 - val_accuracy: 0.6672\n",
            "Epoch 35/150\n",
            "718/718 [==============================] - 121s 169ms/step - loss: 0.1829 - accuracy: 0.9500 - val_loss: 1.2591 - val_accuracy: 0.6691\n",
            "Epoch 36/150\n",
            "718/718 [==============================] - 121s 169ms/step - loss: 0.1705 - accuracy: 0.9529 - val_loss: 1.3021 - val_accuracy: 0.6550\n",
            "Epoch 37/150\n",
            "718/718 [==============================] - 122s 169ms/step - loss: 0.1598 - accuracy: 0.9560 - val_loss: 1.2844 - val_accuracy: 0.6688\n",
            "Epoch 38/150\n",
            "718/718 [==============================] - 121s 168ms/step - loss: 0.1480 - accuracy: 0.9607 - val_loss: 1.2851 - val_accuracy: 0.6703\n",
            "Epoch 39/150\n",
            "718/718 [==============================] - 121s 169ms/step - loss: 0.1398 - accuracy: 0.9637 - val_loss: 1.2882 - val_accuracy: 0.6728\n",
            "Epoch 40/150\n",
            "718/718 [==============================] - 121s 168ms/step - loss: 0.1326 - accuracy: 0.9659 - val_loss: 1.2935 - val_accuracy: 0.6759\n",
            "Epoch 41/150\n",
            "718/718 [==============================] - 121s 168ms/step - loss: 0.1302 - accuracy: 0.9650 - val_loss: 1.3408 - val_accuracy: 0.6607\n",
            "Epoch 42/150\n",
            "718/718 [==============================] - 121s 169ms/step - loss: 0.1181 - accuracy: 0.9686 - val_loss: 1.3268 - val_accuracy: 0.6679\n",
            "Epoch 43/150\n",
            "718/718 [==============================] - 121s 169ms/step - loss: 0.1146 - accuracy: 0.9703 - val_loss: 1.3194 - val_accuracy: 0.6771\n",
            "Epoch 44/150\n",
            "718/718 [==============================] - 121s 168ms/step - loss: 0.1048 - accuracy: 0.9745 - val_loss: 1.3297 - val_accuracy: 0.6831\n",
            "Epoch 45/150\n",
            "718/718 [==============================] - 121s 169ms/step - loss: 0.1040 - accuracy: 0.9745 - val_loss: 1.3331 - val_accuracy: 0.6811\n",
            "Epoch 46/150\n",
            "718/718 [==============================] - 121s 169ms/step - loss: 0.0966 - accuracy: 0.9765 - val_loss: 1.3734 - val_accuracy: 0.6717\n",
            "Epoch 47/150\n",
            "718/718 [==============================] - 121s 169ms/step - loss: 0.0940 - accuracy: 0.9772 - val_loss: 1.3764 - val_accuracy: 0.6818\n",
            "Epoch 48/150\n",
            "718/718 [==============================] - 122s 169ms/step - loss: 0.0940 - accuracy: 0.9762 - val_loss: 1.3846 - val_accuracy: 0.6838\n",
            "Epoch 49/150\n",
            "718/718 [==============================] - 121s 169ms/step - loss: 0.0836 - accuracy: 0.9794 - val_loss: 1.3616 - val_accuracy: 0.6768\n",
            "Epoch 50/150\n",
            "718/718 [==============================] - 122s 169ms/step - loss: 0.0806 - accuracy: 0.9812 - val_loss: 1.4015 - val_accuracy: 0.6839\n",
            "Epoch 51/150\n",
            "718/718 [==============================] - 121s 169ms/step - loss: 0.0856 - accuracy: 0.9790 - val_loss: 1.3767 - val_accuracy: 0.6836\n",
            "Epoch 52/150\n",
            "718/718 [==============================] - 121s 168ms/step - loss: 0.0823 - accuracy: 0.9779 - val_loss: 1.3956 - val_accuracy: 0.6785\n",
            "Epoch 53/150\n",
            "718/718 [==============================] - 121s 169ms/step - loss: 0.0828 - accuracy: 0.9786 - val_loss: 1.3867 - val_accuracy: 0.6895\n",
            "Epoch 54/150\n",
            "718/718 [==============================] - 121s 169ms/step - loss: 0.0712 - accuracy: 0.9831 - val_loss: 1.4016 - val_accuracy: 0.6895\n",
            "Epoch 55/150\n",
            "718/718 [==============================] - 122s 169ms/step - loss: 0.0671 - accuracy: 0.9845 - val_loss: 1.3933 - val_accuracy: 0.6913\n",
            "Epoch 56/150\n",
            "718/718 [==============================] - 122s 169ms/step - loss: 0.0785 - accuracy: 0.9805 - val_loss: 1.4021 - val_accuracy: 0.6911\n",
            "Epoch 57/150\n",
            "718/718 [==============================] - 122s 169ms/step - loss: 0.0689 - accuracy: 0.9839 - val_loss: 1.4003 - val_accuracy: 0.6876\n",
            "Epoch 58/150\n",
            "718/718 [==============================] - 122s 169ms/step - loss: 0.0715 - accuracy: 0.9824 - val_loss: 1.3875 - val_accuracy: 0.6869\n",
            "Epoch 59/150\n",
            "718/718 [==============================] - 122s 169ms/step - loss: 0.0670 - accuracy: 0.9841 - val_loss: 1.4398 - val_accuracy: 0.6864\n",
            "Epoch 60/150\n",
            "718/718 [==============================] - 122s 169ms/step - loss: 0.0640 - accuracy: 0.9845 - val_loss: 1.4352 - val_accuracy: 0.6930\n",
            "Epoch 61/150\n",
            "718/718 [==============================] - 122s 170ms/step - loss: 0.0618 - accuracy: 0.9838 - val_loss: 1.4044 - val_accuracy: 0.6852\n",
            "Epoch 62/150\n",
            "718/718 [==============================] - 122s 169ms/step - loss: 0.0640 - accuracy: 0.9842 - val_loss: 1.4305 - val_accuracy: 0.6892\n",
            "Epoch 63/150\n",
            "718/718 [==============================] - 122s 169ms/step - loss: 0.0648 - accuracy: 0.9839 - val_loss: 1.4419 - val_accuracy: 0.6914\n",
            "Epoch 64/150\n",
            "718/718 [==============================] - 122s 169ms/step - loss: 0.0597 - accuracy: 0.9860 - val_loss: 1.4574 - val_accuracy: 0.6930\n",
            "Epoch 65/150\n",
            "718/718 [==============================] - 122s 170ms/step - loss: 0.0575 - accuracy: 0.9862 - val_loss: 1.4521 - val_accuracy: 0.6909\n",
            "Epoch 66/150\n",
            "718/718 [==============================] - 122s 169ms/step - loss: 0.0558 - accuracy: 0.9876 - val_loss: 1.4429 - val_accuracy: 0.6888\n",
            "Epoch 67/150\n",
            "718/718 [==============================] - 122s 170ms/step - loss: 0.0536 - accuracy: 0.9874 - val_loss: 1.4323 - val_accuracy: 0.6883\n",
            "Epoch 68/150\n",
            "718/718 [==============================] - 122s 169ms/step - loss: 0.0531 - accuracy: 0.9873 - val_loss: 1.4529 - val_accuracy: 0.6937\n",
            "Epoch 69/150\n",
            "718/718 [==============================] - 122s 169ms/step - loss: 0.0503 - accuracy: 0.9886 - val_loss: 1.4728 - val_accuracy: 0.6864\n",
            "Epoch 70/150\n",
            "718/718 [==============================] - 122s 169ms/step - loss: 0.0538 - accuracy: 0.9873 - val_loss: 1.4731 - val_accuracy: 0.6897\n",
            "Epoch 71/150\n",
            "718/718 [==============================] - 122s 169ms/step - loss: 0.0524 - accuracy: 0.9876 - val_loss: 1.4971 - val_accuracy: 0.6846\n",
            "Epoch 72/150\n",
            "718/718 [==============================] - 122s 169ms/step - loss: 0.0531 - accuracy: 0.9877 - val_loss: 1.4789 - val_accuracy: 0.6890\n",
            "Epoch 73/150\n",
            "718/718 [==============================] - 122s 169ms/step - loss: 0.0507 - accuracy: 0.9887 - val_loss: 1.4857 - val_accuracy: 0.6862\n",
            "Epoch 74/150\n",
            "718/718 [==============================] - 122s 170ms/step - loss: 0.0473 - accuracy: 0.9892 - val_loss: 1.4820 - val_accuracy: 0.6883\n",
            "Epoch 75/150\n",
            "718/718 [==============================] - 122s 169ms/step - loss: 0.0488 - accuracy: 0.9884 - val_loss: 1.5043 - val_accuracy: 0.6878\n",
            "Epoch 76/150\n",
            "718/718 [==============================] - 122s 169ms/step - loss: 0.0454 - accuracy: 0.9896 - val_loss: 1.4926 - val_accuracy: 0.6906\n",
            "Epoch 77/150\n",
            "718/718 [==============================] - 122s 169ms/step - loss: 0.0441 - accuracy: 0.9897 - val_loss: 1.5076 - val_accuracy: 0.6961\n",
            "Epoch 78/150\n",
            "718/718 [==============================] - 122s 169ms/step - loss: 0.0422 - accuracy: 0.9906 - val_loss: 1.4972 - val_accuracy: 0.6918\n",
            "Epoch 79/150\n",
            "718/718 [==============================] - 122s 169ms/step - loss: 0.0429 - accuracy: 0.9904 - val_loss: 1.5495 - val_accuracy: 0.6852\n",
            "Epoch 80/150\n",
            "718/718 [==============================] - 122s 169ms/step - loss: 0.0434 - accuracy: 0.9894 - val_loss: 1.5388 - val_accuracy: 0.6841\n",
            "Epoch 81/150\n",
            "718/718 [==============================] - 122s 169ms/step - loss: 0.0396 - accuracy: 0.9909 - val_loss: 1.5111 - val_accuracy: 0.6939\n",
            "Epoch 82/150\n",
            "718/718 [==============================] - 122s 169ms/step - loss: 0.0407 - accuracy: 0.9906 - val_loss: 1.5128 - val_accuracy: 0.6911\n",
            "Epoch 83/150\n",
            "718/718 [==============================] - 122s 169ms/step - loss: 0.0419 - accuracy: 0.9897 - val_loss: 1.5341 - val_accuracy: 0.6897\n",
            "Epoch 84/150\n",
            "718/718 [==============================] - 122s 169ms/step - loss: 0.0427 - accuracy: 0.9904 - val_loss: 1.5528 - val_accuracy: 0.6876\n",
            "Epoch 85/150\n",
            "718/718 [==============================] - 122s 169ms/step - loss: 0.0394 - accuracy: 0.9909 - val_loss: 1.5085 - val_accuracy: 0.6968\n",
            "Epoch 86/150\n",
            "718/718 [==============================] - 122s 169ms/step - loss: 0.0373 - accuracy: 0.9904 - val_loss: 1.5374 - val_accuracy: 0.6907\n",
            "Epoch 87/150\n",
            "718/718 [==============================] - 122s 169ms/step - loss: 0.0350 - accuracy: 0.9919 - val_loss: 1.5277 - val_accuracy: 0.6925\n",
            "Epoch 88/150\n",
            "718/718 [==============================] - 122s 170ms/step - loss: 0.0406 - accuracy: 0.9903 - val_loss: 1.5554 - val_accuracy: 0.6909\n",
            "Epoch 89/150\n",
            "718/718 [==============================] - 122s 170ms/step - loss: 0.0382 - accuracy: 0.9915 - val_loss: 1.5412 - val_accuracy: 0.6916\n",
            "Epoch 90/150\n",
            "718/718 [==============================] - 122s 169ms/step - loss: 0.0378 - accuracy: 0.9906 - val_loss: 1.5472 - val_accuracy: 0.6960\n",
            "Epoch 91/150\n",
            "718/718 [==============================] - 122s 170ms/step - loss: 0.0372 - accuracy: 0.9914 - val_loss: 1.5419 - val_accuracy: 0.6982\n",
            "Epoch 92/150\n",
            "718/718 [==============================] - 122s 170ms/step - loss: 0.0369 - accuracy: 0.9915 - val_loss: 1.5357 - val_accuracy: 0.6958\n",
            "Epoch 93/150\n",
            "718/718 [==============================] - 122s 170ms/step - loss: 0.0334 - accuracy: 0.9927 - val_loss: 1.5262 - val_accuracy: 0.6961\n",
            "Epoch 94/150\n",
            "718/718 [==============================] - 122s 170ms/step - loss: 0.0347 - accuracy: 0.9917 - val_loss: 1.5421 - val_accuracy: 0.7007\n",
            "Epoch 95/150\n",
            "718/718 [==============================] - 123s 170ms/step - loss: 0.0306 - accuracy: 0.9936 - val_loss: 1.5329 - val_accuracy: 0.6951\n",
            "Epoch 96/150\n",
            "718/718 [==============================] - 122s 170ms/step - loss: 0.0322 - accuracy: 0.9923 - val_loss: 1.5633 - val_accuracy: 0.6998\n",
            "Epoch 97/150\n",
            "718/718 [==============================] - 122s 170ms/step - loss: 0.0308 - accuracy: 0.9933 - val_loss: 1.5818 - val_accuracy: 0.6975\n",
            "Epoch 98/150\n",
            "718/718 [==============================] - 122s 170ms/step - loss: 0.0321 - accuracy: 0.9934 - val_loss: 1.5558 - val_accuracy: 0.6934\n",
            "Epoch 99/150\n",
            "718/718 [==============================] - 122s 170ms/step - loss: 0.0309 - accuracy: 0.9929 - val_loss: 1.5694 - val_accuracy: 0.6930\n",
            "Epoch 100/150\n",
            "718/718 [==============================] - 122s 170ms/step - loss: 0.0334 - accuracy: 0.9917 - val_loss: 1.5776 - val_accuracy: 0.6900\n",
            "Epoch 101/150\n",
            "718/718 [==============================] - 122s 170ms/step - loss: 0.0311 - accuracy: 0.9930 - val_loss: 1.6206 - val_accuracy: 0.6947\n",
            "Epoch 102/150\n",
            "718/718 [==============================] - 123s 170ms/step - loss: 0.0311 - accuracy: 0.9936 - val_loss: 1.5636 - val_accuracy: 0.6970\n",
            "Epoch 103/150\n",
            "718/718 [==============================] - 122s 170ms/step - loss: 0.0310 - accuracy: 0.9927 - val_loss: 1.5703 - val_accuracy: 0.6961\n",
            "Epoch 104/150\n",
            "718/718 [==============================] - 122s 170ms/step - loss: 0.0322 - accuracy: 0.9923 - val_loss: 1.5616 - val_accuracy: 0.7035\n",
            "Epoch 105/150\n",
            "718/718 [==============================] - 123s 170ms/step - loss: 0.0307 - accuracy: 0.9934 - val_loss: 1.5757 - val_accuracy: 0.6961\n",
            "Epoch 106/150\n",
            "718/718 [==============================] - 123s 170ms/step - loss: 0.0301 - accuracy: 0.9929 - val_loss: 1.5805 - val_accuracy: 0.6977\n",
            "Epoch 107/150\n",
            "718/718 [==============================] - 122s 170ms/step - loss: 0.0288 - accuracy: 0.9927 - val_loss: 1.5838 - val_accuracy: 0.6977\n",
            "Epoch 108/150\n",
            "718/718 [==============================] - 122s 170ms/step - loss: 0.0269 - accuracy: 0.9942 - val_loss: 1.5804 - val_accuracy: 0.6953\n",
            "Epoch 109/150\n",
            "718/718 [==============================] - 122s 170ms/step - loss: 0.0285 - accuracy: 0.9935 - val_loss: 1.6010 - val_accuracy: 0.6977\n",
            "Epoch 110/150\n",
            "718/718 [==============================] - 123s 170ms/step - loss: 0.0274 - accuracy: 0.9935 - val_loss: 1.5804 - val_accuracy: 0.6944\n",
            "Epoch 111/150\n",
            "718/718 [==============================] - 122s 170ms/step - loss: 0.0284 - accuracy: 0.9936 - val_loss: 1.5985 - val_accuracy: 0.6958\n",
            "Epoch 112/150\n",
            "718/718 [==============================] - 122s 170ms/step - loss: 0.0311 - accuracy: 0.9927 - val_loss: 1.6042 - val_accuracy: 0.6956\n",
            "Epoch 113/150\n",
            "718/718 [==============================] - 122s 169ms/step - loss: 0.0294 - accuracy: 0.9924 - val_loss: 1.5997 - val_accuracy: 0.7014\n",
            "Epoch 114/150\n",
            "718/718 [==============================] - 122s 170ms/step - loss: 0.0267 - accuracy: 0.9940 - val_loss: 1.5940 - val_accuracy: 0.6974\n",
            "Epoch 115/150\n",
            "718/718 [==============================] - 123s 170ms/step - loss: 0.0248 - accuracy: 0.9943 - val_loss: 1.6021 - val_accuracy: 0.6960\n",
            "Epoch 116/150\n",
            "718/718 [==============================] - 122s 170ms/step - loss: 0.0290 - accuracy: 0.9929 - val_loss: 1.5988 - val_accuracy: 0.6921\n",
            "Epoch 117/150\n",
            "718/718 [==============================] - 123s 170ms/step - loss: 0.0266 - accuracy: 0.9941 - val_loss: 1.5866 - val_accuracy: 0.7016\n",
            "Epoch 118/150\n",
            "718/718 [==============================] - 122s 170ms/step - loss: 0.0261 - accuracy: 0.9938 - val_loss: 1.5961 - val_accuracy: 0.6979\n",
            "Epoch 119/150\n",
            "718/718 [==============================] - 123s 170ms/step - loss: 0.0284 - accuracy: 0.9935 - val_loss: 1.6167 - val_accuracy: 0.6963\n",
            "Epoch 120/150\n",
            "718/718 [==============================] - 123s 170ms/step - loss: 0.0294 - accuracy: 0.9923 - val_loss: 1.5959 - val_accuracy: 0.7019\n",
            "Epoch 121/150\n",
            "718/718 [==============================] - 123s 171ms/step - loss: 0.0259 - accuracy: 0.9941 - val_loss: 1.5924 - val_accuracy: 0.6993\n",
            "Epoch 122/150\n",
            "718/718 [==============================] - 123s 170ms/step - loss: 0.0235 - accuracy: 0.9942 - val_loss: 1.6288 - val_accuracy: 0.6963\n",
            "Epoch 123/150\n",
            "718/718 [==============================] - 123s 170ms/step - loss: 0.0274 - accuracy: 0.9939 - val_loss: 1.6652 - val_accuracy: 0.6935\n",
            "Epoch 124/150\n",
            "718/718 [==============================] - 123s 171ms/step - loss: 0.0257 - accuracy: 0.9940 - val_loss: 1.6197 - val_accuracy: 0.6982\n",
            "Epoch 125/150\n",
            "718/718 [==============================] - 123s 171ms/step - loss: 0.0239 - accuracy: 0.9945 - val_loss: 1.6282 - val_accuracy: 0.6995\n",
            "Epoch 126/150\n",
            "718/718 [==============================] - 123s 171ms/step - loss: 0.0232 - accuracy: 0.9951 - val_loss: 1.6278 - val_accuracy: 0.6974\n",
            "Epoch 127/150\n",
            "718/718 [==============================] - 122s 170ms/step - loss: 0.0247 - accuracy: 0.9946 - val_loss: 1.6463 - val_accuracy: 0.7012\n",
            "Epoch 128/150\n",
            "718/718 [==============================] - 122s 170ms/step - loss: 0.0250 - accuracy: 0.9941 - val_loss: 1.6245 - val_accuracy: 0.6988\n",
            "Epoch 129/150\n",
            "718/718 [==============================] - 122s 170ms/step - loss: 0.0223 - accuracy: 0.9949 - val_loss: 1.6192 - val_accuracy: 0.6979\n",
            "Epoch 130/150\n",
            "718/718 [==============================] - 123s 170ms/step - loss: 0.0259 - accuracy: 0.9944 - val_loss: 1.6434 - val_accuracy: 0.7021\n",
            "Epoch 131/150\n",
            "718/718 [==============================] - 123s 170ms/step - loss: 0.0248 - accuracy: 0.9940 - val_loss: 1.6417 - val_accuracy: 0.7049\n",
            "Epoch 132/150\n",
            "718/718 [==============================] - 123s 170ms/step - loss: 0.0221 - accuracy: 0.9947 - val_loss: 1.6388 - val_accuracy: 0.6993\n",
            "Epoch 133/150\n",
            "718/718 [==============================] - 123s 171ms/step - loss: 0.0245 - accuracy: 0.9938 - val_loss: 1.6441 - val_accuracy: 0.7019\n",
            "Epoch 134/150\n",
            "718/718 [==============================] - 122s 170ms/step - loss: 0.0245 - accuracy: 0.9936 - val_loss: 1.6189 - val_accuracy: 0.7036\n",
            "Epoch 135/150\n",
            "718/718 [==============================] - 123s 171ms/step - loss: 0.0236 - accuracy: 0.9943 - val_loss: 1.6603 - val_accuracy: 0.6974\n",
            "Epoch 136/150\n",
            "718/718 [==============================] - 123s 170ms/step - loss: 0.0237 - accuracy: 0.9940 - val_loss: 1.6803 - val_accuracy: 0.6988\n",
            "Epoch 137/150\n",
            "718/718 [==============================] - 122s 170ms/step - loss: 0.0224 - accuracy: 0.9952 - val_loss: 1.6474 - val_accuracy: 0.7038\n",
            "Epoch 138/150\n",
            "718/718 [==============================] - 123s 170ms/step - loss: 0.0232 - accuracy: 0.9949 - val_loss: 1.6578 - val_accuracy: 0.7016\n",
            "Epoch 139/150\n",
            "718/718 [==============================] - 123s 170ms/step - loss: 0.0232 - accuracy: 0.9948 - val_loss: 1.6426 - val_accuracy: 0.6981\n",
            "Epoch 140/150\n",
            "718/718 [==============================] - 123s 171ms/step - loss: 0.0217 - accuracy: 0.9951 - val_loss: 1.6398 - val_accuracy: 0.7028\n",
            "Epoch 141/150\n",
            "718/718 [==============================] - 123s 170ms/step - loss: 0.0225 - accuracy: 0.9950 - val_loss: 1.6484 - val_accuracy: 0.7036\n",
            "Epoch 142/150\n",
            "718/718 [==============================] - 123s 171ms/step - loss: 0.0246 - accuracy: 0.9942 - val_loss: 1.6384 - val_accuracy: 0.7031\n",
            "Epoch 143/150\n",
            "718/718 [==============================] - 123s 170ms/step - loss: 0.0209 - accuracy: 0.9954 - val_loss: 1.6600 - val_accuracy: 0.7035\n",
            "Epoch 144/150\n",
            "718/718 [==============================] - 122s 170ms/step - loss: 0.0223 - accuracy: 0.9952 - val_loss: 1.6882 - val_accuracy: 0.6918\n",
            "Epoch 145/150\n",
            "718/718 [==============================] - 123s 170ms/step - loss: 0.0251 - accuracy: 0.9941 - val_loss: 1.6959 - val_accuracy: 0.6995\n",
            "Epoch 146/150\n",
            "718/718 [==============================] - 123s 171ms/step - loss: 0.0253 - accuracy: 0.9932 - val_loss: 1.7081 - val_accuracy: 0.7045\n",
            "Epoch 147/150\n",
            "718/718 [==============================] - 122s 170ms/step - loss: 0.0254 - accuracy: 0.9942 - val_loss: 1.6929 - val_accuracy: 0.6958\n",
            "Epoch 148/150\n",
            "718/718 [==============================] - 123s 170ms/step - loss: 0.0210 - accuracy: 0.9949 - val_loss: 1.7030 - val_accuracy: 0.6944\n",
            "Epoch 149/150\n",
            "718/718 [==============================] - 123s 170ms/step - loss: 0.0214 - accuracy: 0.9950 - val_loss: 1.6823 - val_accuracy: 0.6996\n",
            "Epoch 150/150\n",
            "718/718 [==============================] - 122s 170ms/step - loss: 0.0209 - accuracy: 0.9956 - val_loss: 1.6820 - val_accuracy: 0.6967\n"
          ]
        },
        {
          "data": {
            "image/png": "[encoded data removed]",
            "text/plain": [
              "<Figure size 1152x288 with 2 Axes>"
            ]
          },
          "metadata": {
            "needs_background": "light"
          },
          "output_type": "display_data"
        }
      ],
      "source": [
        "history = model.fit(train, validation_data=val, verbose=1, epochs=150)\n",
        "plotHistory(history, model_name='ResNet50')"
      ]
    },
    {
      "cell_type": "markdown",
      "id": "f877703a",
      "metadata": {
        "id": "f877703a"
      },
      "source": [
        "The following 'ResNet50' model is the exact architecture in the [ResNet paper](https://arxiv.org/abs/1512.03385).\n",
        "See the design in **Table 1** 50-layer column."
      ]
    },
    {
      "cell_type": "code",
      "execution_count": 8,
      "id": "aeS2KntYY7OD",
      "metadata": {
        "colab": {
          "base_uri": "https://localhost:8080/"
        },
        "id": "aeS2KntYY7OD",
        "outputId": "bfa9cdda-561f-4927-ff9b-7328f987d826"
      },
      "outputs": [
        {
          "name": "stdout",
          "output_type": "stream",
          "text": [
            "225/225 [==============================] - 12s 53ms/step - loss: 2.0889 - accuracy: 0.6276\n"
          ]
        },
        {
          "data": {
            "text/plain": [
              "0.6276121735572815"
            ]
          },
          "execution_count": 8,
          "metadata": {},
          "output_type": "execute_result"
        }
      ],
      "source": [
        "test_acc = model.evaluate(test)[1]\n",
        "test_acc"
      ]
    },
    {
      "cell_type": "code",
      "execution_count": 9,
      "id": "MFbL5iHyNvzF",
      "metadata": {
        "colab": {
          "base_uri": "https://localhost:8080/"
        },
        "id": "MFbL5iHyNvzF",
        "outputId": "653dc8de-8146-4f31-9983-9ffb850ae4b0"
      },
      "outputs": [
        {
          "name": "stdout",
          "output_type": "stream",
          "text": [
            "INFO:tensorflow:Assets written to: drive/MyDrive/CK_Res50/assets\n"
          ]
        }
      ],
      "source": [
        "model.save('weights')"
      ]
    }
  ],
  "metadata": {
    "accelerator": "GPU",
    "colab": {
      "collapsed_sections": [],
      "name": "res_playgroud.ipynb",
      "provenance": []
    },
    "kernelspec": {
      "display_name": "Python 3 (ipykernel)",
      "language": "python",
      "name": "python3"
    },
    "language_info": {
      "codemirror_mode": {
        "name": "ipython",
        "version": 3
      },
      "file_extension": ".py",
      "mimetype": "text/x-python",
      "name": "python",
      "nbconvert_exporter": "python",
      "pygments_lexer": "ipython3",
      "version": "3.9.7"
    }
  },
  "nbformat": 4,
  "nbformat_minor": 5
}
