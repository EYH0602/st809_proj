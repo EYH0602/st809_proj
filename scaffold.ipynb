{
 "cells": [
  {
   "cell_type": "code",
   "execution_count": null,
   "id": "c204549b",
   "metadata": {},
   "outputs": [],
   "source": [
    "import numpy as np\n",
    "from sklearn.model_selection import train_test_split\n",
    "\n",
    "import tensorflow as tf\n",
    "from tensorflow import keras\n",
    "from tensorflow.keras.models import Sequential, Model\n",
    "from tensorflow.keras.layers import Dense, Dropout, Flatten, Activation, Input\n",
    "from tensorflow.keras.layers import Conv2D, MaxPooling2D\n",
    "from tensorflow.keras.optimizers import Adam, SGD\n",
    "\n",
    "from src.ResNet import IdBlock, ConvBlock\n",
    "from src.helper import *\n",
    "\n",
    "tf.random.set_seed(2266)\n",
    "np.random.seed(1)\n",
    "tf.config.run_functions_eagerly(True)\n",
    "%matplotlib inline\n"
   ]
  },
  {
   "cell_type": "markdown",
   "id": "8f11e171",
   "metadata": {},
   "source": [
    "load the data in batches of 32, split the train data 8:2 into validation set.\n",
    "checkout "
   ]
  },
  {
   "cell_type": "code",
   "execution_count": null,
   "id": "adf10c6a",
   "metadata": {},
   "outputs": [],
   "source": [
    "train, val, test = getData(32, 0.2)\n",
    "for img in train:\n",
    "    plt.imshow(img[0][0] / 255)\n",
    "    break"
   ]
  },
  {
   "cell_type": "markdown",
   "id": "f877703a",
   "metadata": {},
   "source": [
    "The following 'ResNet50' model is the exact architecture in the [ResNet paper](https://arxiv.org/abs/1512.03385).\n",
    "See the design in **Table 1** 50-layer column."
   ]
  },
  {
   "cell_type": "code",
   "execution_count": null,
   "id": "133a766f",
   "metadata": {},
   "outputs": [],
   "source": [
    "resnet = Sequential(name='ResNet50')\n",
    "\n",
    "resnet.add(Input(shape=(48, 48, 3)))\n",
    "resnet.add(ZeroPadding2D((3, 3)))\n",
    "\n",
    "# conv1, 7x7, 64, stride 2\n",
    "resnet.add(Conv2D(64, (7, 7), strides=(2, 2)))\n",
    "resnet.add(BatchNormalization())\n",
    "resnet.add(Activation('relu'))\n",
    "\n",
    "# conv2_x\n",
    "# 3x3 max pool, stride 2\n",
    "resnet.add(MaxPooling2D((3, 3), strides=(2, 2)))\n",
    "resnet.add(ConvBlock((64, 64, 256), s=1))\n",
    "resnet.add(IdBlock((64, 64, 256)))\n",
    "resnet.add(IdBlock((64, 64, 256)))\n",
    "\n",
    "# conv3_x\n",
    "resnet.add(ConvBlock((128, 128, 512), s=2))\n",
    "resnet.add(IdBlock((128, 128, 512)))\n",
    "resnet.add(IdBlock((128, 128, 512)))\n",
    "resnet.add(IdBlock((128, 128, 512)))\n",
    "\n",
    "# conv4_x\n",
    "resnet.add(ConvBlock((256, 256, 1024), s=2))\n",
    "resnet.add(IdBlock((256, 256, 1024)))\n",
    "resnet.add(IdBlock((256, 256, 1024)))\n",
    "resnet.add(IdBlock((256, 256, 1024)))\n",
    "resnet.add(IdBlock((256, 256, 1024)))\n",
    "resnet.add(IdBlock((256, 256, 1024)))\n",
    "\n",
    "# conv5_x\n",
    "resnet.add(ConvBlock((512, 512, 2048), s=2))\n",
    "resnet.add(IdBlock((512, 512, 2048)))\n",
    "resnet.add(IdBlock((512, 512, 2048)))\n",
    "\n",
    "# average pool, 1000-d fc, softmax\n",
    "resnet.add(AveragePooling2D((2, 2)))\n",
    "resnet.add(Flatten())\n",
    "resnet.add(Dense(7, activation='softmax'))\n",
    "\n",
    "resnet.compile(\n",
    "    optimizer='adam',\n",
    "    loss='categorical_crossentropy',\n",
    "    metrics=['accuracy']\n",
    ")\n",
    "\n",
    "resnet.summary()\n",
    "\n"
   ]
  },
  {
   "cell_type": "code",
   "execution_count": null,
   "id": "459d04f5",
   "metadata": {},
   "outputs": [],
   "source": [
    "history = resnet.fit(train, validation_data=val, shuffle=True, verbose=1, epochs=100)\n",
    "plotHistory(history, model_name='ResNet50')"
   ]
  }
 ],
 "metadata": {
  "kernelspec": {
   "display_name": "Python 3 (ipykernel)",
   "language": "python",
   "name": "python3"
  },
  "language_info": {
   "codemirror_mode": {
    "name": "ipython",
    "version": 3
   },
   "file_extension": ".py",
   "mimetype": "text/x-python",
   "name": "python",
   "nbconvert_exporter": "python",
   "pygments_lexer": "ipython3",
   "version": "3.9.7"
  }
 },
 "nbformat": 4,
 "nbformat_minor": 5
}
