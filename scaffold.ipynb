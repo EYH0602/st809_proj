{
 "cells": [
  {
   "cell_type": "code",
   "execution_count": 1,
   "id": "c204549b",
   "metadata": {},
   "outputs": [],
   "source": [
    "import numpy as np\n",
    "from sklearn.model_selection import train_test_split\n",
    "\n",
    "import tensorflow as tf\n",
    "from tensorflow import keras\n",
    "from tensorflow.keras.models import Sequential, Model\n",
    "from tensorflow.keras.layers import Dense, Dropout, Flatten, Activation, Input\n",
    "from tensorflow.keras.layers import Conv2D, ZeroPadding2D, MaxPooling2D, AveragePooling2D\n",
    "from tensorflow.keras.optimizers import Adam, SGD\n",
    "\n",
    "from src.ResNet import IdBlock, ConvBlock\n",
    "from src.helper import *\n",
    "\n",
    "tf.random.set_seed(2266)\n",
    "np.random.seed(1)\n",
    "%matplotlib inline\n"
   ]
  },
  {
   "cell_type": "markdown",
   "id": "8f11e171",
   "metadata": {},
   "source": [
    "load the data in batches of 32, split the train data 8:2 into validation set.\n",
    "checkout "
   ]
  },
  {
   "cell_type": "code",
   "execution_count": 2,
   "id": "adf10c6a",
   "metadata": {},
   "outputs": [
    {
     "name": "stdout",
     "output_type": "stream",
     "text": [
      "Found 28709 files belonging to 7 classes.\n",
      "Found 7178 files belonging to 7 classes.\n"
     ]
    }
   ],
   "source": [
    "train, val, test = getData(32, 0.2, path='data/')"
   ]
  },
  {
   "cell_type": "markdown",
   "id": "f877703a",
   "metadata": {},
   "source": [
    "The following 'ResNet50' model is the exact architecture in the [ResNet paper](https://arxiv.org/abs/1512.03385).\n",
    "See the design in **Table 1** 50-layer column."
   ]
  },
  {
   "cell_type": "code",
   "execution_count": 3,
   "id": "133a766f",
   "metadata": {},
   "outputs": [
    {
     "name": "stdout",
     "output_type": "stream",
     "text": [
      "Model: \"ResNet50\"\n",
      "_________________________________________________________________\n",
      " Layer (type)                Output Shape              Param #   \n",
      "=================================================================\n",
      " zero_padding2d (ZeroPadding  (None, 54, 54, 3)        0         \n",
      " 2D)                                                             \n",
      "                                                                 \n",
      " conv2d (Conv2D)             (None, 24, 24, 64)        9472      \n",
      "                                                                 \n",
      " batch_normalization (BatchN  (None, 24, 24, 64)       256       \n",
      " ormalization)                                                   \n",
      "                                                                 \n",
      " activation (Activation)     (None, 24, 24, 64)        0         \n",
      "                                                                 \n",
      " max_pooling2d (MaxPooling2D  (None, 11, 11, 64)       0         \n",
      " )                                                               \n",
      "                                                                 \n",
      " conv_block (ConvBlock)      (None, 11, 11, 256)       74368     \n",
      "                                                                 \n",
      " id_block (IdBlock)          (None, 11, 11, 256)       70016     \n",
      "                                                                 \n",
      " id_block_1 (IdBlock)        (None, 11, 11, 256)       70016     \n",
      "                                                                 \n",
      " conv_block_1 (ConvBlock)    (None, 6, 6, 512)         378112    \n",
      "                                                                 \n",
      " id_block_2 (IdBlock)        (None, 6, 6, 512)         279296    \n",
      "                                                                 \n",
      " id_block_3 (IdBlock)        (None, 6, 6, 512)         279296    \n",
      "                                                                 \n",
      " id_block_4 (IdBlock)        (None, 6, 6, 512)         279296    \n",
      "                                                                 \n",
      " conv_block_2 (ConvBlock)    (None, 3, 3, 1024)        1509888   \n",
      "                                                                 \n",
      " id_block_5 (IdBlock)        (None, 3, 3, 1024)        1115648   \n",
      "                                                                 \n",
      " id_block_6 (IdBlock)        (None, 3, 3, 1024)        1115648   \n",
      "                                                                 \n",
      " id_block_7 (IdBlock)        (None, 3, 3, 1024)        1115648   \n",
      "                                                                 \n",
      " id_block_8 (IdBlock)        (None, 3, 3, 1024)        1115648   \n",
      "                                                                 \n",
      " id_block_9 (IdBlock)        (None, 3, 3, 1024)        1115648   \n",
      "                                                                 \n",
      " conv_block_3 (ConvBlock)    (None, 2, 2, 2048)        6034432   \n",
      "                                                                 \n",
      " id_block_10 (IdBlock)       (None, 2, 2, 2048)        4459520   \n",
      "                                                                 \n",
      " id_block_11 (IdBlock)       (None, 2, 2, 2048)        4459520   \n",
      "                                                                 \n",
      " average_pooling2d (AverageP  (None, 1, 1, 2048)       0         \n",
      " ooling2D)                                                       \n",
      "                                                                 \n",
      " flatten (Flatten)           (None, 2048)              0         \n",
      "                                                                 \n",
      " dense (Dense)               (None, 7)                 14343     \n",
      "                                                                 \n",
      "=================================================================\n",
      "Total params: 23,496,071\n",
      "Trainable params: 23,495,943\n",
      "Non-trainable params: 128\n",
      "_________________________________________________________________\n"
     ]
    }
   ],
   "source": [
    "resnet = Sequential(name='ResNet50')\n",
    "\n",
    "resnet.add(Input(shape=(48, 48, 3)))\n",
    "resnet.add(ZeroPadding2D((3, 3)))\n",
    "\n",
    "# conv1, 7x7, 64, stride 2\n",
    "resnet.add(Conv2D(64, (7, 7), strides=(2, 2)))\n",
    "resnet.add(BatchNormalization())\n",
    "resnet.add(Activation('relu'))\n",
    "\n",
    "# conv2_x\n",
    "# 3x3 max pool, stride 2\n",
    "resnet.add(MaxPooling2D((3, 3), strides=(2, 2)))\n",
    "resnet.add(ConvBlock((64, 64, 256), s=1))\n",
    "resnet.add(IdBlock((64, 64, 256)))\n",
    "resnet.add(IdBlock((64, 64, 256)))\n",
    "\n",
    "# conv3_x\n",
    "resnet.add(ConvBlock((128, 128, 512), s=2))\n",
    "resnet.add(IdBlock((128, 128, 512)))\n",
    "resnet.add(IdBlock((128, 128, 512)))\n",
    "resnet.add(IdBlock((128, 128, 512)))\n",
    "\n",
    "# conv4_x\n",
    "resnet.add(ConvBlock((256, 256, 1024), s=2))\n",
    "resnet.add(IdBlock((256, 256, 1024)))\n",
    "resnet.add(IdBlock((256, 256, 1024)))\n",
    "resnet.add(IdBlock((256, 256, 1024)))\n",
    "resnet.add(IdBlock((256, 256, 1024)))\n",
    "resnet.add(IdBlock((256, 256, 1024)))\n",
    "\n",
    "# conv5_x\n",
    "resnet.add(ConvBlock((512, 512, 2048), s=2))\n",
    "resnet.add(IdBlock((512, 512, 2048)))\n",
    "resnet.add(IdBlock((512, 512, 2048)))\n",
    "\n",
    "# average pool, 1000-d fc, softmax\n",
    "resnet.add(AveragePooling2D((2, 2)))\n",
    "resnet.add(Flatten())\n",
    "resnet.add(Dense(7, activation='softmax'))\n",
    "\n",
    "resnet.compile(\n",
    "    optimizer='adam',\n",
    "    loss='categorical_crossentropy',\n",
    "    metrics=['accuracy']\n",
    ")\n",
    "\n",
    "resnet.summary()\n",
    "\n"
   ]
  },
  {
   "cell_type": "code",
   "execution_count": 4,
   "id": "459d04f5",
   "metadata": {},
   "outputs": [
    {
     "name": "stderr",
     "output_type": "stream",
     "text": [
      "2022-04-05 09:17:07.981091: W tensorflow/core/platform/profile_utils/cpu_utils.cc:128] Failed to get CPU frequency: 0 Hz\n"
     ]
    },
    {
     "name": "stdout",
     "output_type": "stream",
     "text": [
      "718/718 [==============================] - 373s 519ms/step - loss: 2.1033 - accuracy: 0.2951 - val_loss: 547815936.0000 - val_accuracy: 0.1470\n"
     ]
    },
    {
     "data": {
      "image/png": "[encoded data removed]",
      "text/plain": [
       "<Figure size 1152x288 with 2 Axes>"
      ]
     },
     "metadata": {
      "needs_background": "light"
     },
     "output_type": "display_data"
    }
   ],
   "source": [
    "tf.config.run_functions_eagerly(True)\n",
    "history = resnet.fit(train, validation_data=val, shuffle=True, verbose=1, epochs=1)\n",
    "plotHistory(history, model_name='ResNet50')"
   ]
  }
 ],
 "metadata": {
  "kernelspec": {
   "display_name": "Python 3 (ipykernel)",
   "language": "python",
   "name": "python3"
  },
  "language_info": {
   "codemirror_mode": {
    "name": "ipython",
    "version": 3
   },
   "file_extension": ".py",
   "mimetype": "text/x-python",
   "name": "python",
   "nbconvert_exporter": "python",
   "pygments_lexer": "ipython3",
   "version": "3.9.7"
  }
 },
 "nbformat": 4,
 "nbformat_minor": 5
}
