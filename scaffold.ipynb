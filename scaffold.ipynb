{
 "cells": [
  {
   "cell_type": "code",
   "execution_count": 30,
   "id": "c204549b",
   "metadata": {},
   "outputs": [],
   "source": [
    "import numpy as np\n",
    "import matplotlib.pyplot as plt\n",
    "from sklearn.model_selection import train_test_split\n",
    "\n",
    "import tensorflow as tf\n",
    "from tensorflow import keras\n",
    "from tensorflow.keras.models import Sequential, Model\n",
    "from tensorflow.keras.layers import Dense, Dropout, Flatten, Activation, Input\n",
    "from tensorflow.keras.layers import Conv2D, MaxPooling2D\n",
    "from tensorflow.keras.optimizers import Adam, SGD\n",
    "\n",
    "tf.random.set_seed(2266)\n",
    "np.random.seed(1)"
   ]
  },
  {
   "cell_type": "code",
   "execution_count": 31,
   "id": "4659fc19",
   "metadata": {},
   "outputs": [],
   "source": [
    "def getModel(input_shape):\n",
    "    model = Sequential()\n",
    "    # Your code here\n",
    "    p = 0.3\n",
    "\n",
    "    model.add(Conv2D(32, (3, 3), activation='relu', input_shape=input_shape))\n",
    "    model.add(Conv2D(32, (3, 3), activation='relu'))\n",
    "    model.add(MaxPooling2D())\n",
    "    model.add(Dropout(p))\n",
    "\n",
    "    model.add(Conv2D(64, (3, 3), activation='relu'))\n",
    "    model.add(Conv2D(64, (3, 3), activation='relu'))\n",
    "    model.add(MaxPooling2D())\n",
    "    model.add(Dropout(p))\n",
    "\n",
    "    model.add(Flatten())\n",
    "    model.add(Dense(128, activation='relu'))\n",
    "    model.add(Dropout(p))\n",
    "    model.add(Dense(7, activation='softmax'))\n",
    "\n",
    "    opt = Adam(learning_rate=0.001)\n",
    "    model.compile(\n",
    "        optimizer=opt,\n",
    "        loss='categorical_crossentropy',\n",
    "        metrics=['accuracy']\n",
    "    )\n",
    "    \n",
    "    return model"
   ]
  },
  {
   "cell_type": "code",
   "execution_count": 32,
   "id": "bbbc6e08",
   "metadata": {},
   "outputs": [],
   "source": [
    "def getDatasetLength(dataset):\n",
    "    return dataset.cardinality().numpy()"
   ]
  },
  {
   "cell_type": "code",
   "execution_count": 33,
   "id": "8cdb9f48",
   "metadata": {},
   "outputs": [],
   "source": [
    "def getData(batch_size, val_split):\n",
    "    train = keras.utils.image_dataset_from_directory(\n",
    "        directory='data/train/',\n",
    "        labels='inferred',\n",
    "        label_mode='categorical',\n",
    "        batch_size=batch_size,\n",
    "        image_size=(48, 48)\n",
    "    )\n",
    "\n",
    "    test = keras.utils.image_dataset_from_directory(\n",
    "        directory='data/test/',\n",
    "        labels='inferred',\n",
    "        label_mode='categorical',\n",
    "        batch_size=batch_size,\n",
    "        image_size=(48, 48)\n",
    "    )\n",
    "    \n",
    "    total_size = train.cardinality().numpy()\n",
    "    train_size = int((1 - val_split) * total_size)\n",
    "    \n",
    "    train = train.shuffle(batch_size)\n",
    "    train_data = train.take(train_size)\n",
    "    val_data = train.skip(train_size)\n",
    "    return train_data, val_data, test"
   ]
  },
  {
   "cell_type": "code",
   "execution_count": 34,
   "id": "adf10c6a",
   "metadata": {},
   "outputs": [
    {
     "name": "stdout",
     "output_type": "stream",
     "text": [
      "Found 28709 files belonging to 7 classes.\n",
      "Found 7178 files belonging to 7 classes.\n"
     ]
    }
   ],
   "source": [
    "train, val, test = getData(32, 0.2)"
   ]
  },
  {
   "cell_type": "code",
   "execution_count": 35,
   "id": "a7581996",
   "metadata": {},
   "outputs": [
    {
     "data": {
      "text/plain": [
       "718"
      ]
     },
     "execution_count": 35,
     "metadata": {},
     "output_type": "execute_result"
    }
   ],
   "source": [
    "getDatasetLength(train)"
   ]
  },
  {
   "cell_type": "code",
   "execution_count": 40,
   "id": "905752d3",
   "metadata": {},
   "outputs": [
    {
     "data": {
      "text/plain": [
       "225"
      ]
     },
     "execution_count": 40,
     "metadata": {},
     "output_type": "execute_result"
    }
   ],
   "source": [
    "getDatasetLength(test)"
   ]
  },
  {
   "cell_type": "code",
   "execution_count": null,
   "id": "c2998d25",
   "metadata": {},
   "outputs": [],
   "source": []
  },
  {
   "cell_type": "code",
   "execution_count": 37,
   "id": "a4e037c8",
   "metadata": {},
   "outputs": [
    {
     "name": "stdout",
     "output_type": "stream",
     "text": [
      "Model: \"sequential_3\"\n",
      "_________________________________________________________________\n",
      " Layer (type)                Output Shape              Param #   \n",
      "=================================================================\n",
      " conv2d_12 (Conv2D)          (None, 46, 46, 32)        896       \n",
      "                                                                 \n",
      " conv2d_13 (Conv2D)          (None, 44, 44, 32)        9248      \n",
      "                                                                 \n",
      " max_pooling2d_6 (MaxPooling  (None, 22, 22, 32)       0         \n",
      " 2D)                                                             \n",
      "                                                                 \n",
      " dropout_9 (Dropout)         (None, 22, 22, 32)        0         \n",
      "                                                                 \n",
      " conv2d_14 (Conv2D)          (None, 20, 20, 64)        18496     \n",
      "                                                                 \n",
      " conv2d_15 (Conv2D)          (None, 18, 18, 64)        36928     \n",
      "                                                                 \n",
      " max_pooling2d_7 (MaxPooling  (None, 9, 9, 64)         0         \n",
      " 2D)                                                             \n",
      "                                                                 \n",
      " dropout_10 (Dropout)        (None, 9, 9, 64)          0         \n",
      "                                                                 \n",
      " flatten_3 (Flatten)         (None, 5184)              0         \n",
      "                                                                 \n",
      " dense_6 (Dense)             (None, 128)               663680    \n",
      "                                                                 \n",
      " dropout_11 (Dropout)        (None, 128)               0         \n",
      "                                                                 \n",
      " dense_7 (Dense)             (None, 7)                 903       \n",
      "                                                                 \n",
      "=================================================================\n",
      "Total params: 730,151\n",
      "Trainable params: 730,151\n",
      "Non-trainable params: 0\n",
      "_________________________________________________________________\n"
     ]
    }
   ],
   "source": [
    "model = getModel((48, 48, 3))\n",
    "model.summary()"
   ]
  },
  {
   "cell_type": "code",
   "execution_count": 38,
   "id": "bfc43e0a",
   "metadata": {},
   "outputs": [
    {
     "data": {
      "image/png": "[encoded data removed]",
      "text/plain": [
       "<Figure size 432x288 with 1 Axes>"
      ]
     },
     "metadata": {
      "needs_background": "light"
     },
     "output_type": "display_data"
    }
   ],
   "source": [
    "for img in train:\n",
    "    plt.imshow(img[0][0] / 255)\n",
    "    break"
   ]
  },
  {
   "cell_type": "code",
   "execution_count": 39,
   "id": "b416e8dc",
   "metadata": {},
   "outputs": [
    {
     "name": "stdout",
     "output_type": "stream",
     "text": [
      "718/718 [==============================] - 24s 34ms/step - loss: 2.3898 - accuracy: 0.2906 - val_loss: 1.6385 - val_accuracy: 0.3633\n"
     ]
    },
    {
     "data": {
      "text/plain": [
       "<keras.callbacks.History at 0x299a6ae80>"
      ]
     },
     "execution_count": 39,
     "metadata": {},
     "output_type": "execute_result"
    }
   ],
   "source": [
    "model.fit(train, validation_data=val, shuffle=True, epochs=1)"
   ]
  }
 ],
 "metadata": {
  "kernelspec": {
   "display_name": "Python 3 (ipykernel)",
   "language": "python",
   "name": "python3"
  },
  "language_info": {
   "codemirror_mode": {
    "name": "ipython",
    "version": 3
   },
   "file_extension": ".py",
   "mimetype": "text/x-python",
   "name": "python",
   "nbconvert_exporter": "python",
   "pygments_lexer": "ipython3",
   "version": "3.9.7"
  }
 },
 "nbformat": 4,
 "nbformat_minor": 5
}
